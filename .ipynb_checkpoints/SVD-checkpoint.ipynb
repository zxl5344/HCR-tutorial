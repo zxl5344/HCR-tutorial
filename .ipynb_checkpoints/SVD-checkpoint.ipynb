{
 "cells": [
  {
   "cell_type": "code",
   "execution_count": 2,
   "id": "simplified-distance",
   "metadata": {},
   "outputs": [
    {
     "data": {
      "text/plain": [
       "array([[ 0.        ,  1.        ,  0.        ],\n",
       "       [-0.4472136 ,  0.        , -0.89442719],\n",
       "       [-0.89442719,  0.        ,  0.4472136 ]])"
      ]
     },
     "metadata": {},
     "output_type": "display_data"
    },
    {
     "data": {
      "text/plain": [
       "array([11.,  2.,  1.])"
      ]
     },
     "metadata": {},
     "output_type": "display_data"
    },
    {
     "data": {
      "text/plain": [
       "array([[-0.        , -0.4472136 , -0.89442719],\n",
       "       [ 1.        ,  0.        ,  0.        ],\n",
       "       [ 0.        , -0.89442719,  0.4472136 ]])"
      ]
     },
     "metadata": {},
     "output_type": "display_data"
    },
    {
     "data": {
      "text/plain": [
       "array([[2., 0., 0.],\n",
       "       [0., 3., 4.],\n",
       "       [0., 4., 9.]])"
      ]
     },
     "execution_count": 2,
     "metadata": {},
     "output_type": "execute_result"
    }
   ],
   "source": [
    "import numpy as np\n",
    "from numpy import linalg as LA\n",
    "from numpy import array \n",
    "\n",
    "#input matrix\n",
    "A = np.array([[2, 0, 0],[0, 3 ,4], [0, 4, 9]]) \n",
    "\n",
    "#calculate the SVD\n",
    "U,s,Vh = LA.svd(A)\n",
    "\n",
    "#displays the result from SVD\n",
    "display(U,s,Vh)\n",
    "\n",
    "#verify the result\n",
    "U@np.diag(s)@Vh\n"
   ]
  },
  {
   "cell_type": "code",
   "execution_count": 3,
   "id": "accredited-trailer",
   "metadata": {},
   "outputs": [
    {
     "data": {
      "text/plain": [
       "array([[ 0.        ,  0.        ,  1.        ],\n",
       "       [ 0.4472136 ,  0.89442719,  0.        ],\n",
       "       [ 0.89442719, -0.4472136 ,  0.        ]])"
      ]
     },
     "metadata": {},
     "output_type": "display_data"
    },
    {
     "data": {
      "text/plain": [
       "array([11.,  1.,  2.])"
      ]
     },
     "metadata": {},
     "output_type": "display_data"
    },
    {
     "data": {
      "text/plain": [
       "array([[ 0.        ,  0.4472136 ,  0.89442719],\n",
       "       [ 0.        ,  0.89442719, -0.4472136 ],\n",
       "       [ 1.        ,  0.        ,  0.        ]])"
      ]
     },
     "metadata": {},
     "output_type": "display_data"
    },
    {
     "data": {
      "text/plain": [
       "array([[2., 0., 0.],\n",
       "       [0., 3., 4.],\n",
       "       [0., 4., 9.]])"
      ]
     },
     "execution_count": 3,
     "metadata": {},
     "output_type": "execute_result"
    }
   ],
   "source": [
    "#calculate the eigvalue and eigenvector\n",
    "W,V = LA.eig(A)\n",
    "\n",
    "#displays the result\n",
    "display(V,W,LA.inv(V))\n",
    "\n",
    "#verify the result\n",
    "V@np.diag(W)@LA.inv(V)\n",
    "\n"
   ]
  },
  {
   "cell_type": "code",
   "execution_count": 6,
   "id": "civil-triple",
   "metadata": {},
   "outputs": [
    {
     "data": {
      "text/plain": [
       "array([[3, 4],\n",
       "       [4, 9]])"
      ]
     },
     "execution_count": 6,
     "metadata": {},
     "output_type": "execute_result"
    }
   ],
   "source": [
    "A[1:3,1:3]"
   ]
  },
  {
   "cell_type": "code",
   "execution_count": null,
   "id": "celtic-dodge",
   "metadata": {},
   "outputs": [],
   "source": []
  }
 ],
 "metadata": {
  "kernelspec": {
   "display_name": "Python 3",
   "language": "python",
   "name": "python3"
  },
  "language_info": {
   "codemirror_mode": {
    "name": "ipython",
    "version": 3
   },
   "file_extension": ".py",
   "mimetype": "text/x-python",
   "name": "python",
   "nbconvert_exporter": "python",
   "pygments_lexer": "ipython3",
   "version": "3.8.8"
  }
 },
 "nbformat": 4,
 "nbformat_minor": 5
}
